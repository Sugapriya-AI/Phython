{
 "cells": [
  {
   "cell_type": "markdown",
   "id": "f874fcc7-7277-4ced-b548-53bd613d2f29",
   "metadata": {},
   "source": [
    "1. Create a function, and list out the items in the list"
   ]
  },
  {
   "cell_type": "code",
   "execution_count": 1,
   "id": "514a240b-d8ab-4bee-9817-d5b44cd52b10",
   "metadata": {},
   "outputs": [],
   "source": [
    "def subfields():\n",
    "    print(\"Sub-fields in AI are: \")\n",
    "    lists = [\"Machine Learning\", \"Neural Networks\", \"Vision\", \"Robotics\", \"Speech Processing\", \"Natural Language processing\"]\n",
    "    for x in lists:\n",
    "        print(x)\n",
    "    \n",
    "          \n"
   ]
  },
  {
   "cell_type": "code",
   "execution_count": 3,
   "id": "e7dcbd19-f500-4b40-8b92-f0d4af9b5f58",
   "metadata": {},
   "outputs": [
    {
     "name": "stdout",
     "output_type": "stream",
     "text": [
      "Sub-fields in AI are: \n",
      "Machine Learning\n",
      "Neural Networks\n",
      "Vision\n",
      "Robotics\n",
      "Speech Processing\n",
      "Natural Language processing\n"
     ]
    }
   ],
   "source": [
    "subfields()"
   ]
  },
  {
   "cell_type": "markdown",
   "id": "eaa0b565-9a3e-471f-93c8-cb79c56c3950",
   "metadata": {},
   "source": [
    "2. create a function that checks whether the given number is Odd or Even"
   ]
  },
  {
   "cell_type": "code",
   "execution_count": 1,
   "id": "f10d5246-5a11-4db9-92be-a53e16895931",
   "metadata": {},
   "outputs": [],
   "source": [
    "def OddEven():\n",
    "    num=int(input(\"Enter the number: \"))\n",
    "    if num%2==0:\n",
    "        print(num, \"is Even number\")\n",
    "        message=\"Even number\"\n",
    "    else:\n",
    "        print(num, \"is Odd number\")\n",
    "        message=\"Odd number\"\n",
    "    return message "
   ]
  },
  {
   "cell_type": "code",
   "execution_count": 3,
   "id": "69a3e47f-b8f9-4994-b7bc-6444b6ce3668",
   "metadata": {},
   "outputs": [
    {
     "name": "stdin",
     "output_type": "stream",
     "text": [
      "Enter the number:  90\n"
     ]
    },
    {
     "name": "stdout",
     "output_type": "stream",
     "text": [
      "90 is Even number\n"
     ]
    },
    {
     "data": {
      "text/plain": [
       "'Even number'"
      ]
     },
     "execution_count": 3,
     "metadata": {},
     "output_type": "execute_result"
    }
   ],
   "source": [
    "OddEven()"
   ]
  },
  {
   "cell_type": "markdown",
   "id": "e7c5de49-85b2-403c-ab78-ce1fca89a920",
   "metadata": {},
   "source": [
    "3. Create a function that elegibility of marriage for male and female according to their age limit 21 for male and 18 for female"
   ]
  },
  {
   "cell_type": "code",
   "execution_count": 3,
   "id": "3ece1555-2425-466e-82b7-79c3916e09ff",
   "metadata": {},
   "outputs": [],
   "source": [
    "def marriage_eligibility():\n",
    "    print(\"Welcome to the Marriage Eligibility Checker!\")\n",
    "    name = input(\"Enter your name: \")\n",
    "    gender = str(input(\"Enter your gender (M/F): \")).upper()\n",
    "    age = int(input(\"Enter your age: \"))\n",
    "    if (gender == \"M\") and (age >= 21):\n",
    "        print(f\"Congratulations {name}! You are eligible for marriage.\")\n",
    "    elif (gender == \"F\") and (age >= 18):\n",
    "         print(f\"Congratulations {name}! You are eligible for marriage.\")\n",
    "    else:\n",
    "        print(f\"Sorry {name}, you are not eligible yet.\")"
   ]
  },
  {
   "cell_type": "code",
   "execution_count": 5,
   "id": "3b14eae8-21d9-4b27-9b4b-fd83a181bfd4",
   "metadata": {},
   "outputs": [
    {
     "name": "stdout",
     "output_type": "stream",
     "text": [
      "Welcome to the Marriage Eligibility Checker!\n"
     ]
    },
    {
     "name": "stdin",
     "output_type": "stream",
     "text": [
      "Enter your name:  Nanthakumar\n",
      "Enter your gender (M/F):  M\n",
      "Enter your age:  20\n"
     ]
    },
    {
     "name": "stdout",
     "output_type": "stream",
     "text": [
      "Sorry Nanthakumar, you are not eligible yet.\n"
     ]
    }
   ],
   "source": [
    "marriage_eligibility()"
   ]
  },
  {
   "cell_type": "markdown",
   "id": "38061c6d-3ac0-4d4b-8d71-e2505daf7674",
   "metadata": {},
   "source": [
    "4. Calculate the percentage of your 10 mark"
   ]
  },
  {
   "cell_type": "code",
   "execution_count": 3,
   "id": "093512e3-821a-4236-af97-410d9d32e19c",
   "metadata": {},
   "outputs": [],
   "source": [
    "def calculate_percentage():\n",
    "    subject1=int(input(\"Subject1= \"))\n",
    "    subject2=int(input(\"Subject2= \"))\n",
    "    subject3=int(input(\"Subject3= \"))\n",
    "    subject4=int(input(\"Subject4= \"))\n",
    "    subject5=int(input(\"Subject5= \"))\n",
    "    total=subject1+subject2+subject3+subject4+subject5\n",
    "    print(\"Total : \", total)\n",
    "    percentage=total/5\n",
    "    print(\"percentage : \",percentage) "
   ]
  },
  {
   "cell_type": "code",
   "execution_count": 5,
   "id": "8d40933e-6ded-46ad-80f2-e9f19161f7f5",
   "metadata": {},
   "outputs": [
    {
     "name": "stdin",
     "output_type": "stream",
     "text": [
      "Subject1=  98\n",
      "Subject2=  87\n",
      "Subject3=  95\n",
      "Subject4=  95\n",
      "Subject5=  93\n"
     ]
    },
    {
     "name": "stdout",
     "output_type": "stream",
     "text": [
      "Total :  468\n",
      "percentage :  93.6\n"
     ]
    }
   ],
   "source": [
    "calculate_percentage()"
   ]
  },
  {
   "cell_type": "markdown",
   "id": "3d620767-1808-4aaa-8c5d-b315e56f75fb",
   "metadata": {},
   "source": [
    "5. Print area and perimeter of triangle using functions"
   ]
  },
  {
   "cell_type": "code",
   "execution_count": 3,
   "id": "c3bf2006-9bb4-4e84-8b9b-93ee5fee1662",
   "metadata": {},
   "outputs": [],
   "source": [
    "def triangle():\n",
    "    print(\"Area of the triangle\")\n",
    "    height=int(input(\"Height:\"))\n",
    "    breadth=int(input(\"Breadth:\"))\n",
    "    area=(height*breadth)/2\n",
    "    print(\"Area of Triangle: \",area)\n",
    "    print(\"Perimeter of the triangle\")\n",
    "    height1=int(input(\"Height1:\"))\n",
    "    height2=int(input(\"Height2:\"))\n",
    "    breadth=int(input(\"Breadth:\"))\n",
    "    perimeter=height1+height2+breadth\n",
    "    print(\"Perimeter of Triangle:\",perimeter)\n"
   ]
  },
  {
   "cell_type": "code",
   "execution_count": 5,
   "id": "22a56630-d012-4c7a-b62c-b7d60e91ba36",
   "metadata": {},
   "outputs": [
    {
     "name": "stdout",
     "output_type": "stream",
     "text": [
      "Area of the triangle\n"
     ]
    },
    {
     "name": "stdin",
     "output_type": "stream",
     "text": [
      "Height: 32\n",
      "Breadth: 34\n"
     ]
    },
    {
     "name": "stdout",
     "output_type": "stream",
     "text": [
      "Area of Triangle:  544.0\n",
      "Perimeter of the triangle\n"
     ]
    },
    {
     "name": "stdin",
     "output_type": "stream",
     "text": [
      "Height1: 2\n",
      "Height2: 4\n",
      "Breadth: 4\n"
     ]
    },
    {
     "name": "stdout",
     "output_type": "stream",
     "text": [
      "Perimeter of Triangle: 10\n"
     ]
    }
   ],
   "source": [
    "triangle()"
   ]
  },
  {
   "cell_type": "code",
   "execution_count": null,
   "id": "cba4206c-275e-4a4d-a9eb-0a9451416a21",
   "metadata": {},
   "outputs": [],
   "source": []
  }
 ],
 "metadata": {
  "kernelspec": {
   "display_name": "Python [conda env:base] *",
   "language": "python",
   "name": "conda-base-py"
  },
  "language_info": {
   "codemirror_mode": {
    "name": "ipython",
    "version": 3
   },
   "file_extension": ".py",
   "mimetype": "text/x-python",
   "name": "python",
   "nbconvert_exporter": "python",
   "pygments_lexer": "ipython3",
   "version": "3.12.7"
  }
 },
 "nbformat": 4,
 "nbformat_minor": 5
}
