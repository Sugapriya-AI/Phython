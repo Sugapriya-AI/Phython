{
 "cells": [
  {
   "cell_type": "code",
   "execution_count": 5,
   "id": "bc3b6ff2-0cc4-4e34-abc4-278e76570bf0",
   "metadata": {},
   "outputs": [],
   "source": [
    "from Class_access import multiple_functions"
   ]
  },
  {
   "cell_type": "code",
   "execution_count": 6,
   "id": "8879d03f-4b19-4423-aede-8378aceec03c",
   "metadata": {},
   "outputs": [
    {
     "name": "stdout",
     "output_type": "stream",
     "text": [
      "Sub-fields in AI are: \n",
      "Machine Learning\n",
      "Neural Networks\n",
      "Vision\n",
      "Robotics\n",
      "Speech Processing\n",
      "Natural Language processing\n"
     ]
    }
   ],
   "source": [
    "multiple_functions.subfields()"
   ]
  },
  {
   "cell_type": "code",
   "execution_count": 8,
   "id": "b27b5ac2-3a33-4b4f-9cef-fb5714a9b6a6",
   "metadata": {},
   "outputs": [
    {
     "name": "stdin",
     "output_type": "stream",
     "text": [
      "Enter the number:  23\n"
     ]
    },
    {
     "name": "stdout",
     "output_type": "stream",
     "text": [
      "23 is Odd number\n"
     ]
    },
    {
     "data": {
      "text/plain": [
       "'Odd number'"
      ]
     },
     "execution_count": 8,
     "metadata": {},
     "output_type": "execute_result"
    }
   ],
   "source": [
    "multiple_functions.OddEven()"
   ]
  },
  {
   "cell_type": "code",
   "execution_count": 7,
   "id": "1f70c9c7-0596-42fb-a5e7-32efbadd6122",
   "metadata": {},
   "outputs": [
    {
     "name": "stdout",
     "output_type": "stream",
     "text": [
      "Welcome to the Marriage Eligibility Checker!\n"
     ]
    },
    {
     "name": "stdin",
     "output_type": "stream",
     "text": [
      "Enter your name:  priya\n",
      "Enter your gender (M/F):  f\n",
      "Enter your age:  17\n"
     ]
    },
    {
     "name": "stdout",
     "output_type": "stream",
     "text": [
      "Sorry priya, you are not eligible yet.\n"
     ]
    }
   ],
   "source": [
    "multiple_functions.marriage_eligibility()"
   ]
  },
  {
   "cell_type": "code",
   "execution_count": 12,
   "id": "10466d8b-d40c-4eb5-9a9b-a25f6f8f027e",
   "metadata": {},
   "outputs": [
    {
     "name": "stdin",
     "output_type": "stream",
     "text": [
      "Subject1=  98\n",
      "Subject2=  87\n",
      "Subject3=  95\n",
      "Subject4=  95\n",
      "Subject5=  93\n"
     ]
    },
    {
     "name": "stdout",
     "output_type": "stream",
     "text": [
      "Total :  468\n",
      "percentage :  93.6\n"
     ]
    }
   ],
   "source": [
    "multiple_functions.calculate_percentage()"
   ]
  },
  {
   "cell_type": "code",
   "execution_count": 14,
   "id": "946f6b87-26b8-4b8b-bb1e-37c44f1bc526",
   "metadata": {},
   "outputs": [
    {
     "name": "stdout",
     "output_type": "stream",
     "text": [
      "Area of the triangle\n"
     ]
    },
    {
     "name": "stdin",
     "output_type": "stream",
     "text": [
      "Height: 32\n",
      "Breadth: 34\n"
     ]
    },
    {
     "name": "stdout",
     "output_type": "stream",
     "text": [
      "Area of Triangle:  544.0\n",
      "Perimeter of the triangle\n"
     ]
    },
    {
     "name": "stdin",
     "output_type": "stream",
     "text": [
      "Height1: 2\n",
      "Height2: 4\n",
      "Breadth: 4\n"
     ]
    },
    {
     "name": "stdout",
     "output_type": "stream",
     "text": [
      "Perimeter of Triangle: 10\n"
     ]
    }
   ],
   "source": [
    "multiple_functions.triangle()"
   ]
  },
  {
   "cell_type": "code",
   "execution_count": null,
   "id": "ee6981ea-c6cd-4c2a-89e2-6ce1bc2796da",
   "metadata": {},
   "outputs": [],
   "source": []
  }
 ],
 "metadata": {
  "kernelspec": {
   "display_name": "Python [conda env:base] *",
   "language": "python",
   "name": "conda-base-py"
  },
  "language_info": {
   "codemirror_mode": {
    "name": "ipython",
    "version": 3
   },
   "file_extension": ".py",
   "mimetype": "text/x-python",
   "name": "python",
   "nbconvert_exporter": "python",
   "pygments_lexer": "ipython3",
   "version": "3.12.7"
  }
 },
 "nbformat": 4,
 "nbformat_minor": 5
}
