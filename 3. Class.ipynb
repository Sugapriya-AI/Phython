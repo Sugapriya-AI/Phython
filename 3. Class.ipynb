{
 "cells": [
  {
   "cell_type": "markdown",
   "id": "8b9631ce-f1e3-49da-a547-1912dc810d0b",
   "metadata": {},
   "source": [
    "1. Create a class and function, and list out the items in the list"
   ]
  },
  {
   "cell_type": "code",
   "execution_count": 7,
   "id": "a0c8d83f-b10b-4d9f-b4f8-cbbda0c0f09a",
   "metadata": {},
   "outputs": [],
   "source": [
    "class subfieldsinAI():\n",
    "    def subfields():\n",
    "        print(\"Sub-fields in AI are: \")\n",
    "        lists = [\"Machine Learning\", \"Neural Networks\", \"Vision\", \"Robotics\", \"Speech Processing\", \"Natural Language processing\"]\n",
    "        for x in lists:\n",
    "            print(x)"
   ]
  },
  {
   "cell_type": "code",
   "execution_count": 9,
   "id": "4b5ffd97-39cd-40cd-bee5-e0b0c5cdede0",
   "metadata": {},
   "outputs": [
    {
     "name": "stdout",
     "output_type": "stream",
     "text": [
      "Sub-fields in AI are: \n",
      "Machine Learning\n",
      "Neural Networks\n",
      "Vision\n",
      "Robotics\n",
      "Speech Processing\n",
      "Natural Language processing\n"
     ]
    }
   ],
   "source": [
    "subfieldsinAI.subfields()"
   ]
  },
  {
   "cell_type": "markdown",
   "id": "46f10b53-5060-46bd-86f0-1db7652537e4",
   "metadata": {},
   "source": [
    "2. create a function that checks whether the given number is Odd or Even"
   ]
  },
  {
   "cell_type": "code",
   "execution_count": 15,
   "id": "a3390b3c-6530-47bc-9360-103ac9421116",
   "metadata": {},
   "outputs": [],
   "source": [
    "class OddEven():\n",
    "    def OddEven():\n",
    "        num=int(input(\"Enter the number: \"))\n",
    "        if num%2==0:\n",
    "            print(num, \"is Even number\")\n",
    "            message=\"Even number\"\n",
    "        else:\n",
    "            print(num, \"is Odd number\")\n",
    "            message=\"Odd number\"\n",
    "        return message "
   ]
  },
  {
   "cell_type": "markdown",
   "id": "4f3cd4d2-7ae9-42cc-a596-3086b5313d0d",
   "metadata": {},
   "source": [
    "OddEven.OddEven()"
   ]
  },
  {
   "cell_type": "markdown",
   "id": "0e12124f-9dd3-4b0c-aff5-c628f6f17c2a",
   "metadata": {},
   "source": [
    "3. Create a function that elegibility of marriage for male and female according to their age limit 21 for male and 18 for female"
   ]
  },
  {
   "cell_type": "code",
   "execution_count": 3,
   "id": "146ccf72-1d27-4f4c-a034-2acbefcf3b8d",
   "metadata": {},
   "outputs": [
    {
     "name": "stdin",
     "output_type": "stream",
     "text": [
      "Enter gender (M/F):  f\n",
      "Enter age:  17\n"
     ]
    },
    {
     "name": "stdout",
     "output_type": "stream",
     "text": [
      "Not Eligible\n"
     ]
    }
   ],
   "source": [
    "marriage_eligibility.eligibility()"
   ]
  },
  {
   "cell_type": "code",
   "execution_count": 3,
   "id": "85bed531-d1f5-4ea0-9a60-70b804e3cad9",
   "metadata": {},
   "outputs": [],
   "source": [
    "class marriage_eligibility():\n",
    "    def marriage_eligibility():\n",
    "        print(\"Welcome to the Marriage Eligibility Checker!\")\n",
    "        name = input(\"Enter your name: \")\n",
    "        gender = str(input(\"Enter your gender (M/F): \")).upper()\n",
    "        age = int(input(\"Enter your age: \"))\n",
    "        if (gender == \"M\") and (age >= 21):\n",
    "            print(f\"Congratulations {name}! You are eligible for marriage.\")\n",
    "        elif (gender == \"F\") and (age >= 18):\n",
    "             print(f\"Congratulations {name}! You are eligible for marriage.\")\n",
    "        else:\n",
    "            print(f\"Sorry {name}, you are not eligible yet.\")"
   ]
  },
  {
   "cell_type": "code",
   "execution_count": 5,
   "id": "6cf7407a-240f-4294-b17a-d65330a14627",
   "metadata": {},
   "outputs": [
    {
     "name": "stdout",
     "output_type": "stream",
     "text": [
      "Welcome to the Marriage Eligibility Checker!\n"
     ]
    },
    {
     "name": "stdin",
     "output_type": "stream",
     "text": [
      "Enter your name:  Sugapriya\n",
      "Enter your gender (M/F):  F\n",
      "Enter your age:  30\n"
     ]
    },
    {
     "name": "stdout",
     "output_type": "stream",
     "text": [
      "Congratulations Sugapriya! You are eligible for marriage.\n"
     ]
    }
   ],
   "source": [
    "marriage_eligibility.marriage_eligibility()"
   ]
  },
  {
   "cell_type": "markdown",
   "id": "5d5771fd-375f-4288-ab07-6276d4c18b38",
   "metadata": {},
   "source": [
    "4. Calculate the percentage of your 10 mark"
   ]
  },
  {
   "cell_type": "code",
   "execution_count": 5,
   "id": "3e206604-692c-40c4-b833-4aad855d6ac6",
   "metadata": {},
   "outputs": [],
   "source": [
    "class findpercent():\n",
    "    def calculate_percentage():\n",
    "        subject1=int(input(\"Subject1= \"))\n",
    "        subject2=int(input(\"Subject2= \"))\n",
    "        subject3=int(input(\"Subject3= \"))\n",
    "        subject4=int(input(\"Subject4= \"))\n",
    "        subject5=int(input(\"Subject5= \"))\n",
    "        total=subject1+subject2+subject3+subject4+subject5\n",
    "        print(\"Total : \", total)\n",
    "        percentage=total/5\n",
    "        print(\"percentage : \",percentage) "
   ]
  },
  {
   "cell_type": "code",
   "execution_count": 7,
   "id": "cc4dac97-5b67-4d28-8b02-47dc37551bed",
   "metadata": {},
   "outputs": [
    {
     "name": "stdin",
     "output_type": "stream",
     "text": [
      "Subject1=  98\n",
      "Subject2=  87\n",
      "Subject3=  95\n",
      "Subject4=  95\n",
      "Subject5=  93\n"
     ]
    },
    {
     "name": "stdout",
     "output_type": "stream",
     "text": [
      "Total :  468\n",
      "percentage :  93.6\n"
     ]
    }
   ],
   "source": [
    "findpercent.calculate_percentage()"
   ]
  },
  {
   "cell_type": "markdown",
   "id": "444ee618-38ba-48a7-bd9b-79de9a9aa5a3",
   "metadata": {},
   "source": [
    "5. Print area and perimeter of triangle using functions"
   ]
  },
  {
   "cell_type": "code",
   "execution_count": 9,
   "id": "f009b79f-a8b2-410e-88e6-99c6a02eae4e",
   "metadata": {},
   "outputs": [],
   "source": [
    "class triangle():\n",
    "    def triangle():\n",
    "        print(\"Area of the triangle\")\n",
    "        height=int(input(\"Height:\"))\n",
    "        breadth=int(input(\"Breadth:\"))\n",
    "        area=(height*breadth)/2\n",
    "        print(\"Area of Triangle: \",area)\n",
    "        print(\"Perimeter of the triangle\")\n",
    "        height1=int(input(\"Height1:\"))\n",
    "        height2=int(input(\"Height2:\"))\n",
    "        breadth=int(input(\"Breadth:\"))\n",
    "        perimeter=height1+height2+breadth\n",
    "        print(\"Perimeter of Triangle:\",perimeter)\n"
   ]
  },
  {
   "cell_type": "code",
   "execution_count": 11,
   "id": "5fa6667c-537d-4553-a8f6-6360831146d4",
   "metadata": {},
   "outputs": [
    {
     "name": "stdout",
     "output_type": "stream",
     "text": [
      "Area of the triangle\n"
     ]
    },
    {
     "name": "stdin",
     "output_type": "stream",
     "text": [
      "Height: 32\n",
      "Breadth: 34\n"
     ]
    },
    {
     "name": "stdout",
     "output_type": "stream",
     "text": [
      "Area of Triangle:  544.0\n",
      "Perimeter of the triangle\n"
     ]
    },
    {
     "name": "stdin",
     "output_type": "stream",
     "text": [
      "Height1: 2\n",
      "Height2: 4\n",
      "Breadth: 4\n"
     ]
    },
    {
     "name": "stdout",
     "output_type": "stream",
     "text": [
      "Perimeter of Triangle: 10\n"
     ]
    }
   ],
   "source": [
    "triangle.triangle()"
   ]
  },
  {
   "cell_type": "code",
   "execution_count": null,
   "id": "9cb2c71e-d0d4-4b5e-a486-b745927c6349",
   "metadata": {},
   "outputs": [],
   "source": []
  }
 ],
 "metadata": {
  "kernelspec": {
   "display_name": "Python [conda env:base] *",
   "language": "python",
   "name": "conda-base-py"
  },
  "language_info": {
   "codemirror_mode": {
    "name": "ipython",
    "version": 3
   },
   "file_extension": ".py",
   "mimetype": "text/x-python",
   "name": "python",
   "nbconvert_exporter": "python",
   "pygments_lexer": "ipython3",
   "version": "3.12.7"
  }
 },
 "nbformat": 4,
 "nbformat_minor": 5
}
