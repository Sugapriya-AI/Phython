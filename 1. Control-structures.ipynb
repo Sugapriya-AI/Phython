{
 "cells": [
  {
   "cell_type": "markdown",
   "id": "47d97ea3-9b04-4480-9b9d-bc8f72925fb2",
   "metadata": {},
   "source": [
    "1.OUTPUT\n",
    "\n",
    "Welcome to Assignment-1\n"
   ]
  },
  {
   "cell_type": "code",
   "execution_count": 3,
   "id": "38f5ec93-ee32-41a1-97e6-4dddada50853",
   "metadata": {},
   "outputs": [
    {
     "name": "stdout",
     "output_type": "stream",
     "text": [
      "Welcome to Assignment-1\n"
     ]
    }
   ],
   "source": [
    "print(\"Welcome to Assignment-1\")"
   ]
  },
  {
   "cell_type": "markdown",
   "id": "2eda6d2e-f98e-4763-a410-cf99d80bbb85",
   "metadata": {},
   "source": [
    "2.OUTPUT\n",
    "\n",
    "Num1= 10\n",
    "Num2= 30\n",
    "Add= 40"
   ]
  },
  {
   "cell_type": "code",
   "execution_count": 16,
   "id": "63c60308-074f-4cd3-b9be-8be4b502e1e7",
   "metadata": {},
   "outputs": [
    {
     "name": "stdin",
     "output_type": "stream",
     "text": [
      "Num1= 10\n",
      "Num2= 30\n"
     ]
    },
    {
     "name": "stdout",
     "output_type": "stream",
     "text": [
      "Add=  40\n"
     ]
    }
   ],
   "source": [
    "Num1=int(input(\"Num1=\"))\n",
    "Num2=int(input(\"Num2=\"))\n",
    "Add=Num1+Num2\n",
    "print(\"Add= \",Add)"
   ]
  },
  {
   "cell_type": "markdown",
   "id": "506bc44c-bbc4-4c9a-b44e-08061f182c15",
   "metadata": {},
   "source": [
    "3.OUTPUT"
   ]
  },
  {
   "cell_type": "markdown",
   "id": "169afd70-3f8a-4064-add9-2b86ea7e5e15",
   "metadata": {},
   "source": [
    "<img src=\"BMI.png\" style=\"width:400px;height:300px\" title= \"3.OUTPUT\">"
   ]
  },
  {
   "cell_type": "code",
   "execution_count": 40,
   "id": "1d0d4d1e-af8f-48a5-8636-22a2aaa8c74d",
   "metadata": {},
   "outputs": [
    {
     "name": "stdin",
     "output_type": "stream",
     "text": [
      "Enter the BMI Index: 20\n"
     ]
    },
    {
     "name": "stdout",
     "output_type": "stream",
     "text": [
      "NORMAL\n"
     ]
    }
   ],
   "source": [
    "Index_no=float(input(\"Enter the BMI Index:\"))\n",
    "if(Index_no<18.5):\n",
    "    print(\"UNDERWEIGHT\")\n",
    "elif((Index_no>=18.5)and(Index_no<=24.9)):\n",
    "    print(\"NORMAL\")\n",
    "elif((Index_no>=25.0)and(Index_no<=29.9)):\n",
    "    print(\"OVERWEIGHT\")\n",
    "elif((Index_no>=30.0)and(Index_no<=39.9)):\n",
    "    print(\"OBESE\")\n",
    "else:\n",
    "    print(\"SEVERELY OBESE\")\n",
    "    "
   ]
  },
  {
   "cell_type": "code",
   "execution_count": null,
   "id": "e2370c71-9f71-44e4-a88a-3afd61986364",
   "metadata": {},
   "outputs": [],
   "source": []
  }
 ],
 "metadata": {
  "kernelspec": {
   "display_name": "Python [conda env:base] *",
   "language": "python",
   "name": "conda-base-py"
  },
  "language_info": {
   "codemirror_mode": {
    "name": "ipython",
    "version": 3
   },
   "file_extension": ".py",
   "mimetype": "text/x-python",
   "name": "python",
   "nbconvert_exporter": "python",
   "pygments_lexer": "ipython3",
   "version": "3.12.7"
  }
 },
 "nbformat": 4,
 "nbformat_minor": 5
}
