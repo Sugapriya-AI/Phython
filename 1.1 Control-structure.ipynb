{
 "cells": [
  {
   "cell_type": "code",
   "execution_count": 1,
   "id": "d8631f64-1095-4e75-bfa0-04a58a78a885",
   "metadata": {},
   "outputs": [
    {
     "name": "stdout",
     "output_type": "stream",
     "text": [
      "HOPE AI\n"
     ]
    }
   ],
   "source": [
    "#print statement\n",
    "\n",
    "print(\"HOPE AI\")"
   ]
  },
  {
   "cell_type": "code",
   "execution_count": 3,
   "id": "57483ce8-e6f3-41ec-8627-e7c28f0ec140",
   "metadata": {},
   "outputs": [
    {
     "name": "stdin",
     "output_type": "stream",
     "text": [
      "Enter your institute name? :  HOPE AI\n"
     ]
    }
   ],
   "source": [
    "#Buy input\n",
    "\n",
    "Ins_name=str(input(\"Enter your institute name? : \"))"
   ]
  },
  {
   "cell_type": "code",
   "execution_count": 5,
   "id": "1a9370c5-5169-479e-89c3-311a57f8b2af",
   "metadata": {},
   "outputs": [
    {
     "name": "stdin",
     "output_type": "stream",
     "text": [
      "Enter your name:  Raj\n",
      "Enter your age:  15\n",
      "Enter your school name:  Guru school\n",
      "Enter your degree:  B.E CSE\n"
     ]
    }
   ],
   "source": [
    "#Buy inputs43\n",
    "\n",
    "Name=str(input(\"Enter your name: \"))\n",
    "Age=int(input(\"Enter your age: \"))\n",
    "Sch_name=str(input(\"Enter your school name: \"))\n",
    "Degree=str(input(\"Enter your degree: \"))"
   ]
  },
  {
   "cell_type": "code",
   "execution_count": 7,
   "id": "ba4158aa-2705-475c-961c-1b913b0845ea",
   "metadata": {},
   "outputs": [
    {
     "name": "stdin",
     "output_type": "stream",
     "text": [
      "a =  43\n",
      "b =  34\n"
     ]
    },
    {
     "name": "stdout",
     "output_type": "stream",
     "text": [
      "add =  77\n"
     ]
    }
   ],
   "source": [
    "#Addition\n",
    "\n",
    "num1=int(input(\"a = \"))\n",
    "num2=int(input(\"b = \"))\n",
    "print(\"add = \",num1+num2)"
   ]
  },
  {
   "cell_type": "code",
   "execution_count": 9,
   "id": "4961071d-827e-4068-8eb9-e4b6b33830c2",
   "metadata": {},
   "outputs": [
    {
     "name": "stdin",
     "output_type": "stream",
     "text": [
      "a =  43\n",
      "b =  34\n"
     ]
    },
    {
     "name": "stdout",
     "output_type": "stream",
     "text": [
      "Sub =  9\n"
     ]
    }
   ],
   "source": [
    "#Subtraction\n",
    "\n",
    "num1=int(input(\"a = \"))\n",
    "num2=int(input(\"b = \"))\n",
    "print(\"Sub = \",num1-num2)"
   ]
  },
  {
   "cell_type": "code",
   "execution_count": 11,
   "id": "711fa5d7-057b-42c3-80e7-5d9da13b09e9",
   "metadata": {},
   "outputs": [
    {
     "name": "stdin",
     "output_type": "stream",
     "text": [
      "a =  63\n",
      "b =  97\n"
     ]
    },
    {
     "name": "stdout",
     "output_type": "stream",
     "text": [
      "Mul =  6111\n"
     ]
    }
   ],
   "source": [
    "#Multiplication \n",
    "\n",
    "num1=int(input(\"a = \"))\n",
    "num2=int(input(\"b = \"))\n",
    "print(\"Mul = \",num1*num2) "
   ]
  },
  {
   "cell_type": "code",
   "execution_count": 13,
   "id": "62979cad-91af-475f-83a3-6293c6c0778c",
   "metadata": {},
   "outputs": [
    {
     "name": "stdin",
     "output_type": "stream",
     "text": [
      "a =  76\n",
      "b =  31\n"
     ]
    },
    {
     "name": "stdout",
     "output_type": "stream",
     "text": [
      "Float Div =  2.4516129032258065\n"
     ]
    }
   ],
   "source": [
    "#Division\n",
    "\n",
    "num1=int(input(\"a = \"))\n",
    "num2=int(input(\"b = \"))\n",
    "print(\"Float Div = \",num1/num2) "
   ]
  },
  {
   "cell_type": "code",
   "execution_count": 15,
   "id": "519232fd-ff15-4219-a0fe-170c57c2038c",
   "metadata": {},
   "outputs": [
    {
     "name": "stdin",
     "output_type": "stream",
     "text": [
      "a =  76\n",
      "b =  31\n"
     ]
    },
    {
     "name": "stdout",
     "output_type": "stream",
     "text": [
      "Floor Div =  2\n"
     ]
    }
   ],
   "source": [
    "#Floor division\n",
    "\n",
    "num1=int(input(\"a = \"))\n",
    "num2=int(input(\"b = \"))\n",
    "print(\"Floor Div = \",num1//num2)"
   ]
  },
  {
   "cell_type": "code",
   "execution_count": 17,
   "id": "06ae42f4-a236-484e-b3d6-d5d2281ebc84",
   "metadata": {},
   "outputs": [
    {
     "name": "stdin",
     "output_type": "stream",
     "text": [
      "a =  76\n",
      "b =  31\n"
     ]
    },
    {
     "name": "stdout",
     "output_type": "stream",
     "text": [
      "Modulo =  14\n"
     ]
    }
   ],
   "source": [
    "#Modulo\n",
    "\n",
    "num1=int(input(\"a = \"))\n",
    "num2=int(input(\"b = \"))\n",
    "print(\"Modulo = \",num1%num2)"
   ]
  },
  {
   "cell_type": "code",
   "execution_count": 19,
   "id": "050c58e1-1188-4c66-8bb8-0e90820d2724",
   "metadata": {},
   "outputs": [
    {
     "name": "stdin",
     "output_type": "stream",
     "text": [
      "a =  4\n",
      "b =  4\n"
     ]
    },
    {
     "name": "stdout",
     "output_type": "stream",
     "text": [
      "Power =  256\n"
     ]
    }
   ],
   "source": [
    "#Power\n",
    "\n",
    "num1=int(input(\"a = \"))\n",
    "num2=int(input(\"b = \"))\n",
    "print(\"Power = \",num1**num2)"
   ]
  },
  {
   "cell_type": "code",
   "execution_count": null,
   "id": "a84f5b03-2258-49b3-8bec-8b5851d1c968",
   "metadata": {},
   "outputs": [],
   "source": []
  }
 ],
 "metadata": {
  "kernelspec": {
   "display_name": "Python [conda env:base] *",
   "language": "python",
   "name": "conda-base-py"
  },
  "language_info": {
   "codemirror_mode": {
    "name": "ipython",
    "version": 3
   },
   "file_extension": ".py",
   "mimetype": "text/x-python",
   "name": "python",
   "nbconvert_exporter": "python",
   "pygments_lexer": "ipython3",
   "version": "3.12.7"
  }
 },
 "nbformat": 4,
 "nbformat_minor": 5
}
