{
 "cells": [
  {
   "cell_type": "code",
   "execution_count": 4,
   "id": "b1ffc31c-f76b-4722-bf7c-4b67174a044c",
   "metadata": {},
   "outputs": [
    {
     "name": "stdin",
     "output_type": "stream",
     "text": [
      "value:  10\n"
     ]
    },
    {
     "name": "stdout",
     "output_type": "stream",
     "text": [
      "correct\n"
     ]
    }
   ],
   "source": [
    "#print 'CORRECT' if i==10\n",
    "\n",
    "num=int(input(\"value: \"))\n",
    "if num==10:\n",
    "    print(\"correct\")\n",
    "else:\n",
    "    print(\"Incorrect\")"
   ]
  },
  {
   "cell_type": "code",
   "execution_count": 22,
   "id": "db5dc715-9b41-45b0-b71b-dcd3054bd653",
   "metadata": {},
   "outputs": [
    {
     "name": "stdin",
     "output_type": "stream",
     "text": [
      "Enter the password:  HOPE@123\n"
     ]
    },
    {
     "name": "stdout",
     "output_type": "stream",
     "text": [
      "Your password is correct\n"
     ]
    }
   ],
   "source": [
    "#check the password, using if and else\n",
    "\n",
    "pwd='HOPE@123'\n",
    "password=str(input(\"Enter the password: \"))\n",
    "if password==pwd:\n",
    "    print(\"Your password is correct\")\n",
    "else: \n",
    "    print(\"Your password is Incorrect\")"
   ]
  },
  {
   "cell_type": "code",
   "execution_count": 9,
   "id": "bffa08fa-0760-4445-bebe-9a8232b8932f",
   "metadata": {},
   "outputs": [
    {
     "name": "stdin",
     "output_type": "stream",
     "text": [
      "Age:  20\n"
     ]
    },
    {
     "name": "stdout",
     "output_type": "stream",
     "text": [
      "Adult\n"
     ]
    }
   ],
   "source": [
    "#Category the people by their age like children, adult, citizen, senior citizen...\n",
    "\n",
    "age=int(input(\"Age: \"))\n",
    "if age<18:\n",
    "    print(\"Children\")\n",
    "elif age<35:\n",
    "    print(\"Adult\")\n",
    "elif age<59:\n",
    "    print(\"Citizen\")\n",
    "else:\n",
    "    print(\"senior citizen\")"
   ]
  },
  {
   "cell_type": "code",
   "execution_count": 11,
   "id": "62915c61-fd14-41ca-a841-18b4b4c7d058",
   "metadata": {},
   "outputs": [
    {
     "name": "stdin",
     "output_type": "stream",
     "text": [
      "Enter the number:  6\n"
     ]
    },
    {
     "name": "stdout",
     "output_type": "stream",
     "text": [
      "The input number is positive\n"
     ]
    }
   ],
   "source": [
    "# Find whether given number os positive or negative\n",
    "\n",
    "num=float(input(\"Enter the number: \"))\n",
    "if num>0:\n",
    "   print(\"The input number is positive\")\n",
    "elif num<0:      \n",
    "    print(\"The input number is negative\")\n",
    "else:\n",
    "    print (\"The input number is zero\")"
   ]
  },
  {
   "cell_type": "code",
   "execution_count": 9,
   "id": "ea891414-1c9c-493f-84b4-2275f372c548",
   "metadata": {},
   "outputs": [
    {
     "name": "stdin",
     "output_type": "stream",
     "text": [
      "Enter a number to check:  40\n"
     ]
    },
    {
     "name": "stdout",
     "output_type": "stream",
     "text": [
      "The number is divisible by 5\n"
     ]
    }
   ],
   "source": [
    "#check whether the given number is divisible by 5\n",
    "\n",
    "num=float(input(\"Enter a number to check: \"))\n",
    "if num%5==0:\n",
    "    print(\"The number is divisible by 5\")\n",
    "else:\n",
    "    print(\"The number is not divisible by 5\")"
   ]
  },
  {
   "cell_type": "code",
   "execution_count": null,
   "id": "bff19718-4866-49b9-aa6e-a54d60cfe129",
   "metadata": {},
   "outputs": [],
   "source": []
  }
 ],
 "metadata": {
  "kernelspec": {
   "display_name": "Python [conda env:base] *",
   "language": "python",
   "name": "conda-base-py"
  },
  "language_info": {
   "codemirror_mode": {
    "name": "ipython",
    "version": 3
   },
   "file_extension": ".py",
   "mimetype": "text/x-python",
   "name": "python",
   "nbconvert_exporter": "python",
   "pygments_lexer": "ipython3",
   "version": "3.12.7"
  }
 },
 "nbformat": 4,
 "nbformat_minor": 5
}
